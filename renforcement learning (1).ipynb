{
 "cells": [
  {
   "cell_type": "code",
   "execution_count": 1,
   "id": "56915f78-0ecc-4013-b865-1be7b264eb7f",
   "metadata": {},
   "outputs": [],
   "source": [
    "import numpy as np\n",
    "import pandas as pd\n",
    "import random\n",
    "import matplotlib.pyplot as plt\n",
    "import seaborn as sns\n",
    "from sklearn.preprocessing import MinMaxScaler\n",
    "import tensorflow as tf\n",
    "from tensorflow.keras.models import Sequential\n",
    "from tensorflow.keras.layers import Dense\n",
    "from tensorflow.keras.optimizers import Adam\n"
   ]
  },
  {
   "cell_type": "code",
   "execution_count": 18,
   "id": "f275f91e-9283-4792-b8d7-5636ff7714e8",
   "metadata": {},
   "outputs": [],
   "source": [
    "data = {\n",
    "    \"state\": np.random.randint(0, 10, 1000),\n",
    "    \"action\": np.random.randint(0, 4, 1000),\n",
    "    \"reward\": np.random.choice([0, 1], 1000),\n",
    "    \"next_state\": np.random.randint(0, 10, 1000)\n",
    "}\n",
    "dataset = pd.DataFrame(data)"
   ]
  },
  {
   "cell_type": "code",
   "execution_count": 19,
   "id": "3625e3bd-15e8-408e-9dc5-4c0fe8ef97ff",
   "metadata": {},
   "outputs": [],
   "source": [
    "scaler = MinMaxScaler()\n",
    "dataset[[\"state\", \"next_state\"]] = scaler.fit_transform(dataset[[\"state\", \"next_state\"]])\n"
   ]
  },
  {
   "cell_type": "code",
   "execution_count": 27,
   "id": "ab3fc681-26db-433e-b2e0-9d8a98713c2b",
   "metadata": {},
   "outputs": [],
   "source": [
    "def build_dqn(n_states, n_actions):\n",
    "    model = Sequential([\n",
    "        Dense(24, input_dim=n_states, activation='relu'),\n",
    "        Dense(24, activation='relu'),\n",
    "        Dense(n_actions, activation='linear')\n",
    "    ])\n",
    "    model.compile(loss='mse', optimizer=Adam(learning_rate=0.01))\n",
    "    return model"
   ]
  },
  {
   "cell_type": "code",
   "execution_count": 28,
   "id": "facd4544-0826-4b4b-bb9f-efd925fa143d",
   "metadata": {},
   "outputs": [],
   "source": [
    "n_states = 1  # Since we normalize states, it's a single continuous feature\n",
    "n_actions = 4  # Number of actions\n",
    "model = build_dqn(n_states, n_actions)\n",
    "\n"
   ]
  },
  {
   "cell_type": "code",
   "execution_count": 29,
   "id": "62bcbb0c-66bf-4ea0-b983-8d9767b62a40",
   "metadata": {},
   "outputs": [],
   "source": [
    "discount_factor = 0.9\n",
    "epsilon = 1.0  # Exploration rate\n",
    "epsilon_decay = 0.995\n",
    "epsilon_min = 0.01\n",
    "epochs = 200  # Reduced epochs for faster training\n",
    "batch_size = 32  # Mini-batch training\n",
    "reward_tracking = []\n"
   ]
  },
  {
   "cell_type": "code",
   "execution_count": 30,
   "id": "3ebfdf9e-0e71-49af-9634-2521267a56ae",
   "metadata": {},
   "outputs": [],
   "source": [
    "states = dataset[\"state\"].values.reshape(-1, 1)\n",
    "actions = dataset[\"action\"].values\n",
    "rewards = dataset[\"reward\"].values\n",
    "next_states = dataset[\"next_state\"].values.reshape(-1, 1)\n"
   ]
  },
  {
   "cell_type": "code",
   "execution_count": 31,
   "id": "58bd9826-3d4a-4ff1-812f-0a5be117c07d",
   "metadata": {},
   "outputs": [],
   "source": [
    "def train_batch():\n",
    "    indices = np.random.choice(len(states), batch_size)\n",
    "    batch_states = states[indices].reshape(batch_size, -1)\n",
    "    batch_actions = actions[indices]\n",
    "    batch_rewards = rewards[indices]\n",
    "    batch_next_states = next_states[indices].reshape(batch_size, -1)\n",
    "    \n",
    "    q_values = model.predict(batch_states, verbose=0)\n",
    "    next_q_values = model.predict(batch_next_states, verbose=0)\n",
    "    \n",
    "    for i in range(batch_size):\n",
    "        action = int(batch_actions[i])\n",
    "        q_values[i, action] = batch_rewards[i] + discount_factor * np.max(next_q_values[i])\n",
    "    \n",
    "    model.fit(batch_states, q_values, verbose=0, epochs=1, batch_size=batch_size)"
   ]
  },
  {
   "cell_type": "code",
   "execution_count": 32,
   "id": "00eabab9-7a4f-48e4-874c-5ee443594947",
   "metadata": {},
   "outputs": [],
   "source": [
    "for epoch in range(epochs):\n",
    "    total_epoch_reward = 0\n",
    "    for _ in range(len(states) // batch_size):\n",
    "        train_batch()\n",
    "    \n",
    "    epsilon = max(epsilon_min, epsilon * epsilon_decay)\n",
    "    total_epoch_reward = np.sum(rewards)\n",
    "    reward_tracking.append(total_epoch_reward)"
   ]
  },
  {
   "cell_type": "code",
   "execution_count": 33,
   "id": "9feb5319-3bfc-45bf-ad4c-8c4c91a248b5",
   "metadata": {},
   "outputs": [
    {
     "data": {
      "image/png": "[encoded data removed]",
      "text/plain": [
       "<Figure size 1000x500 with 1 Axes>"
      ]
     },
     "metadata": {},
     "output_type": "display_data"
    }
   ],
   "source": [
    "sns.set(style=\"darkgrid\")\n",
    "def plot_rewards(rewards):\n",
    "    plt.figure(figsize=(10, 5))\n",
    "    sns.lineplot(x=range(len(rewards)), y=rewards)\n",
    "    plt.xlabel(\"Epochs\")\n",
    "    plt.ylabel(\"Total Reward\")\n",
    "    plt.title(\"Reward Progression Over Training\")\n",
    "    plt.show()\n",
    "\n",
    "plot_rewards(reward_tracking)\n"
   ]
  },
  {
   "cell_type": "code",
   "execution_count": 34,
   "id": "bbc1fdce-5d33-4c2c-903e-8c54829c4629",
   "metadata": {},
   "outputs": [
    {
     "name": "stdout",
     "output_type": "stream",
     "text": [
      "Average reward over 10 test episodes: 4.1\n"
     ]
    }
   ],
   "source": [
    "total_rewards = 0\n",
    "test_episodes = 10\n",
    "for _ in range(test_episodes):\n",
    "    state = np.array([[random.random()]])  # Random normalized state\n",
    "    done = False\n",
    "    while not done:\n",
    "        q_values = model.predict(state.reshape(1, -1), verbose=0)\n",
    "        action = np.argmax(q_values)\n",
    "        next_state = np.array([[random.random()]])\n",
    "        reward = 1 if random.random() > 0.5 else 0\n",
    "        total_rewards += reward\n",
    "        state = next_state\n",
    "        done = random.random() > 0.8\n",
    "\n",
    "print(f\"Average reward over {test_episodes} test episodes: {total_rewards / test_episodes}\")"
   ]
  },
  {
   "cell_type": "code",
   "execution_count": null,
   "id": "d45b359f-5b80-4a62-8ef3-d87a5c8b993e",
   "metadata": {},
   "outputs": [],
   "source": []
  }
 ],
 "metadata": {
  "kernelspec": {
   "display_name": "Python (tf_env)",
   "language": "python",
   "name": "tf_env"
  },
  "language_info": {
   "codemirror_mode": {
    "name": "ipython",
    "version": 3
   },
   "file_extension": ".py",
   "mimetype": "text/x-python",
   "name": "python",
   "nbconvert_exporter": "python",
   "pygments_lexer": "ipython3",
   "version": "3.10.8"
  }
 },
 "nbformat": 4,
 "nbformat_minor": 5
}
