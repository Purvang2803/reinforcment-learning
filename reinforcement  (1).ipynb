{
 "cells": [
  {
   "cell_type": "code",
   "execution_count": 2,
   "id": "0ce4b58e-5749-4a6e-a334-d4c29feb984d",
   "metadata": {},
   "outputs": [],
   "source": [
    "import numpy as np\n",
    "import gym\n",
    "\n",
    "# Initialize FrozenLake environment\n",
    "env = gym.make(\"FrozenLake-v1\", is_slippery=False, render_mode=None)  "
   ]
  },
  {
   "cell_type": "code",
   "execution_count": 3,
   "id": "b9619d0f-38f5-4dee-a71b-5765f2de580e",
   "metadata": {},
   "outputs": [],
   "source": [
    "# Define Q-learning parameters\n",
    "alpha = 0.1   # Learning rate\n",
    "gamma = 0.99  # Discount factor\n",
    "epsilon = 1.0 # Initial exploration rate\n",
    "epsilon_min = 0.01  # 🔥 Correctly defined now\n",
    "epsilon_decay = 0.995\n",
    "episodes = 5000\n"
   ]
  },
  {
   "cell_type": "code",
   "execution_count": 4,
   "id": "ee9f88a5-2911-41f1-9f61-ad26c38263a0",
   "metadata": {},
   "outputs": [],
   "source": [
    "# Initialize Q-table\n",
    "state_size = env.observation_space.n\n",
    "action_size = env.action_space.n\n",
    "Q_table = np.zeros((state_size, action_size))"
   ]
  },
  {
   "cell_type": "code",
   "execution_count": 5,
   "id": "2e4a0b2a-b6b7-4888-bf1d-b95c88d21fb9",
   "metadata": {},
   "outputs": [
    {
     "name": "stdout",
     "output_type": "stream",
     "text": [
      "Episode 0, Epsilon: 0.9950\n",
      "Episode 500, Epsilon: 0.0812\n",
      "Episode 1000, Epsilon: 0.0100\n",
      "Episode 1500, Epsilon: 0.0100\n",
      "Episode 2000, Epsilon: 0.0100\n",
      "Episode 2500, Epsilon: 0.0100\n",
      "Episode 3000, Epsilon: 0.0100\n",
      "Episode 3500, Epsilon: 0.0100\n",
      "Episode 4000, Epsilon: 0.0100\n",
      "Episode 4500, Epsilon: 0.0100\n",
      "Training completed!\n"
     ]
    }
   ],
   "source": [
    "for episode in range(episodes):\n",
    "    state, _ = env.reset()  # Reset environment for a new episode\n",
    "    done = False\n",
    "\n",
    "    while not done:\n",
    "        # Choose action using epsilon-greedy policy\n",
    "        if np.random.rand() < epsilon:\n",
    "            action = env.action_space.sample()  # Explore\n",
    "        else:\n",
    "            action = np.argmax(Q_table[state, :])  # Exploit\n",
    "\n",
    "        # Take action and observe the outcome\n",
    "        new_state, reward, terminated, truncated, _ = env.step(action)\n",
    "        done = terminated or truncated  # Fix Gym API change\n",
    "\n",
    "        # Q-learning update rule (Bellman Equation)\n",
    "        Q_table[state, action] += alpha * (reward + gamma * np.max(Q_table[new_state, :]) - Q_table[state, action])\n",
    "\n",
    "        state = new_state  # Move to the next state\n",
    "\n",
    "    # 🔥 Decay epsilon after every episode\n",
    "    if epsilon > epsilon_min:\n",
    "        epsilon *= epsilon_decay\n",
    "\n",
    "    # Print progress every 500 episodes\n",
    "    if episode % 500 == 0:\n",
    "        print(f\"Episode {episode}, Epsilon: {epsilon:.4f}\")\n",
    "\n",
    "print(\"Training completed!\")\n",
    "\n"
   ]
  },
  {
   "cell_type": "code",
   "execution_count": 6,
   "id": "aad282cc-9d5e-4601-ae58-e8021577f297",
   "metadata": {},
   "outputs": [
    {
     "name": "stdout",
     "output_type": "stream",
     "text": [
      "\n",
      "Episode 1:\n",
      "Total Reward: 0.0\n",
      "\n",
      "Episode 2:\n",
      "Total Reward: 0.0\n",
      "\n",
      "Episode 3:\n",
      "Total Reward: 0.0\n",
      "\n",
      "Episode 4:\n",
      "Total Reward: 0.0\n",
      "\n",
      "Episode 5:\n",
      "Total Reward: 0.0\n",
      "\n",
      "Episode 6:\n",
      "Total Reward: 0.0\n",
      "\n",
      "Episode 7:\n",
      "Total Reward: 0.0\n",
      "\n",
      "Episode 8:\n",
      "Total Reward: 0.0\n",
      "\n",
      "Episode 9:\n",
      "Total Reward: 0.0\n",
      "\n",
      "Episode 10:\n",
      "Total Reward: 0.0\n"
     ]
    }
   ],
   "source": [
    "test_episodes = 10\n",
    "for episode in range(test_episodes):\n",
    "    state, _ = env.reset()\n",
    "    done = False\n",
    "    total_reward = 0\n",
    "    print(f\"\\nEpisode {episode+1}:\")\n",
    "\n",
    "    while not done:\n",
    "        action = np.argmax(Q_table[state, :])  # Always exploit learned policy\n",
    "        new_state, reward, terminated, truncated, _ = env.step(action)\n",
    "        done = terminated or truncated\n",
    "        total_reward += reward\n",
    "        state = new_state\n",
    "\n",
    "    print(f\"Total Reward: {total_reward}\")\n",
    "\n",
    "env.close()\n"
   ]
  },
  {
   "cell_type": "code",
   "execution_count": null,
   "id": "40af58c4-9339-4f36-8028-956af89cd945",
   "metadata": {},
   "outputs": [],
   "source": []
  }
 ],
 "metadata": {
  "kernelspec": {
   "display_name": "Python (tf_env)",
   "language": "python",
   "name": "tf_env"
  },
  "language_info": {
   "codemirror_mode": {
    "name": "ipython",
    "version": 3
   },
   "file_extension": ".py",
   "mimetype": "text/x-python",
   "name": "python",
   "nbconvert_exporter": "python",
   "pygments_lexer": "ipython3",
   "version": "3.10.8"
  }
 },
 "nbformat": 4,
 "nbformat_minor": 5
}
